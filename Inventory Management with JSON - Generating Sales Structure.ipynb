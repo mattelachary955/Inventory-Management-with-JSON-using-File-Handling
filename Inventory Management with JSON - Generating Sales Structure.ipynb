{
 "cells": [
  {
   "cell_type": "markdown",
   "id": "0547b330",
   "metadata": {},
   "source": [
    "record = {1001 : {\"Name\" : \"5 Star\",\"Price\": 10,\"Qty\":200},\n",
    "          1002 : {\"Name\" : \"Ice cream\",\"Price\": 20,\"Qty\":100},\n",
    "          1003 : {\"Name\" : \"Candy\",\"Price\": 5,\"Qty\":1000},\n",
    "          1004 : {\"Name\" : \"Cake\",\"Price\": 500,\"Qty\":10},\n",
    "          1005 : {\"Name\" : \"Bourbon\",\"Price\": 10,\"Qty\":200}}\n",
    "for key in record.keys():\n",
    "    print(key, \"-\",record[key][\"Name\"],\"|\",record[key][\"Price\"],\"|\",record[key][\"Qty\"])"
   ]
  },
  {
   "cell_type": "markdown",
   "id": "d88fb2c5",
   "metadata": {},
   "source": [
    "1001 - 5 Star | 10 | 200\n",
    "1002 - Ice cream | 20 | 100\n",
    "1003 - Candy | 5 | 1000\n",
    "1004 - Cake | 500 | 10\n",
    "1005 - Bourbon | 10 | 200"
   ]
  },
  {
   "cell_type": "code",
   "execution_count": 7,
   "id": "0d7f48d5",
   "metadata": {},
   "outputs": [
    {
     "name": "stdout",
     "output_type": "stream",
     "text": [
      "---------------------MENU-------------------------\n",
      "\n",
      "1001 - 5 Star | 10 | 0\n",
      "1002 - Ice cream | 200 | 500\n",
      "1003 - Candy | 5 | 1000\n",
      "1004 - Cake | 500 | 50\n",
      "1005 - Bourbon | 10 | 500\n",
      "--------------------------------------------------\n",
      "Enter Your Name       : Bhupal\n",
      "Enter Your Phone      : 8945845\n",
      "Enter Product ID     : 1002\n",
      "Enter Product Qty : 50\n",
      "--------------------------------------------------\n",
      "                  BILL                        \n",
      "Product Name       :  Ice cream\n",
      "Product Price(Rs)  :  200\n",
      "Product Quantity   :  50\n",
      "--------------------------------------------------\n",
      "Billing Amount     :  9000.0 Rs\n",
      "--------------------------------------------------\n"
     ]
    }
   ],
   "source": [
    "import json\n",
    "import time\n",
    "\n",
    "sale =\"\"\n",
    "\n",
    "billingAmount = 0\n",
    "\n",
    "fd = open(\"Records.json\",\"r\")\n",
    "js = fd.read()\n",
    "fd.close()\n",
    "\n",
    "record = json.loads(js)\n",
    "\n",
    "print(\"---------------------MENU-------------------------\\n\")\n",
    "for key in record.keys():\n",
    "    print(key, \"-\",record[key][\"Name\"],\"|\",record[key][\"Price\"],\"|\",record[key][\"Qty\"])\n",
    "print(\"--------------------------------------------------\")\n",
    "\n",
    "custName = input(\"Enter Your Name       : \")\n",
    "phone    = input(\"Enter Your Phone      : \")\n",
    "prodID   = (input(\"Enter Product ID     : \"))\n",
    "if record[prodID][\"Qty\"] == 0:\n",
    "    print(\"Sorry!, Inventory is Out of Stock\")\n",
    "else:    \n",
    "    prodQty  = int(input(\"Enter Product Qty : \"))\n",
    "\n",
    "    print(\"--------------------------------------------------\")\n",
    "\n",
    "    if record[prodID][\"Qty\"] >= prodQty:\n",
    "\n",
    "        print(\"                  BILL                        \")\n",
    "\n",
    "        print(\"Product Name       : \",record[prodID][\"Name\"])\n",
    "        print(\"Product Price(Rs)  : \",record[prodID][\"Price\"])\n",
    "        print(\"Product Quantity   : \",prodQty)\n",
    "        print(\"--------------------------------------------------\")\n",
    "        billingAmount = record[prodID][\"Price\"]*prodQty\n",
    "        if billingAmount >= 1000:\n",
    "\n",
    "            billingAmount = billingAmount*(9/10)\n",
    "        print(\"Billing Amount     : \", billingAmount,\"Rs\")\n",
    "        print(\"--------------------------------------------------\")\n",
    "        record[prodID][\"Qty\"] = record[prodID][\"Qty\"] - prodQty\n",
    "\n",
    "        sale = custName+\",\"+phone+\",\"+prodID+\",\"+record[prodID][\"Name\"]+\",\"+str(prodQty)+\",\"+str(record[prodID][\"Price\"])+\",\"+str(billingAmount)+\",\"+time.ctime()+\"\\n\"\n",
    "\n",
    "    else:\n",
    "\n",
    "        if record[prodID][\"Qty\"] != 0:\n",
    "\n",
    "            print(\"Inventory is OUT OF STOCK\")\n",
    "            print(\"We have only \",record[prodID][\"Qty\"], \"in Inventory\")\n",
    "            print(\"Would you like to purchase\", record[prodID][\"Qty\"], \"Quantities\")\n",
    "\n",
    "            yes = input(\"Press Y/y to purchase remaining Quantities: \")\n",
    "\n",
    "            if yes == \"Y\" or yes == \"y\":\n",
    "\n",
    "                print(\"--------------------------------------------------\")\n",
    "                print(\"                  BILL                        \")\n",
    "                print(\"Product Name       : \",record[prodID][\"Name\"])\n",
    "                print(\"Product Price(Rs)  : \",record[prodID][\"Price\"])\n",
    "                print(\"Product Quantity   : \",record[prodID][\"Qty\"])\n",
    "                print(\"--------------------------------------------------\")\n",
    "                billingAmount = record[prodID][\"Price\"]*record[prodID][\"Qty\"]\n",
    "\n",
    "                if billingAmount >= 1000:\n",
    "\n",
    "                    billingAmount = billingAmount*(9/10)\n",
    "\n",
    "                print(\"Billing Amount     : \", billingAmount,\"Rs\")\n",
    "                print(\"--------------------------------------------------\")\n",
    "                record[prodID][\"Qty\"] = 0\n",
    "\n",
    "                sale = custName+\",\"+phone+\",\"+prodID+\",\"+record[prodID][\"Name\"]+\",\"+str(record[prodID][\"Qty\"])+\",\"+str(record[prodID][\"Price\"])+\",\"+str(billingAmount)+\",\"+time.ctime()+\"\\n\"\n",
    "\n",
    "                if billingAmount >= 1000:\n",
    "\n",
    "                    billingAmount = billingAmount*(9/10)\n",
    "\n",
    "            else:\n",
    "                print(\"Thanks!\")\n",
    "        else:\n",
    "            print(\"Inventory is OUT OF STOCK\")\n",
    "\n",
    "fd = open(\"Sales.txt\",\"a\")\n",
    "fd.write(sale)\n",
    "fd.close()\n",
    "        \n",
    "js = json.dumps(record)\n",
    "\n",
    "fd = open(\"Records.json\",\"w\")\n",
    "fd.write(js)\n",
    "fd.close()"
   ]
  },
  {
   "cell_type": "code",
   "execution_count": 8,
   "id": "3a8d6624",
   "metadata": {},
   "outputs": [
    {
     "data": {
      "text/plain": [
       "{'1001': {'Name': '5 Star', 'Price': 10, 'Qty': 0},\n",
       " '1002': {'Name': 'Ice cream', 'Price': 200, 'Qty': 450},\n",
       " '1003': {'Name': 'Candy', 'Price': 5, 'Qty': 1000},\n",
       " '1004': {'Name': 'Cake', 'Price': 500, 'Qty': 50},\n",
       " '1005': {'Name': 'Bourbon', 'Price': 10, 'Qty': 500}}"
      ]
     },
     "execution_count": 8,
     "metadata": {},
     "output_type": "execute_result"
    }
   ],
   "source": [
    "record"
   ]
  },
  {
   "cell_type": "code",
   "execution_count": 9,
   "id": "c78102e3",
   "metadata": {},
   "outputs": [
    {
     "data": {
      "text/plain": [
       "str"
      ]
     },
     "execution_count": 9,
     "metadata": {},
     "output_type": "execute_result"
    }
   ],
   "source": [
    "type(js)"
   ]
  },
  {
   "cell_type": "code",
   "execution_count": 10,
   "id": "32c93ba1",
   "metadata": {},
   "outputs": [
    {
     "data": {
      "text/plain": [
       "{'1001': {'Name': '5 Star', 'Price': 10, 'Qty': 0},\n",
       " '1002': {'Name': 'Ice cream', 'Price': 200, 'Qty': 450},\n",
       " '1003': {'Name': 'Candy', 'Price': 5, 'Qty': 1000},\n",
       " '1004': {'Name': 'Cake', 'Price': 500, 'Qty': 50},\n",
       " '1005': {'Name': 'Bourbon', 'Price': 10, 'Qty': 500}}"
      ]
     },
     "execution_count": 10,
     "metadata": {},
     "output_type": "execute_result"
    }
   ],
   "source": [
    "json.loads(js)"
   ]
  },
  {
   "cell_type": "code",
   "execution_count": 11,
   "id": "25e650c8",
   "metadata": {},
   "outputs": [],
   "source": [
    "sale = custName+\",\"+phone+\",\"+prodID+\",\"+record[prodID][\"Name\"]+\",\"+str(record[prodID][\"Qty\"])+\",\"+str(record[prodID][\"Price\"])+\",\"+str(record[prodID][\"Price\"]*record[prodID][\"Qty\"])+\",\"+time.ctime()"
   ]
  },
  {
   "cell_type": "code",
   "execution_count": 12,
   "id": "9f8b3827",
   "metadata": {},
   "outputs": [
    {
     "data": {
      "text/plain": [
       "'Bhupal,8945845,1002,Ice cream,450,200,90000,Thu Jan 18 15:29:18 2024'"
      ]
     },
     "execution_count": 12,
     "metadata": {},
     "output_type": "execute_result"
    }
   ],
   "source": [
    "sale"
   ]
  },
  {
   "cell_type": "code",
   "execution_count": null,
   "id": "ecbf8808",
   "metadata": {},
   "outputs": [],
   "source": []
  },
  {
   "cell_type": "code",
   "execution_count": null,
   "id": "b4b5c465",
   "metadata": {},
   "outputs": [],
   "source": []
  }
 ],
 "metadata": {
  "kernelspec": {
   "display_name": "Python 3 (ipykernel)",
   "language": "python",
   "name": "python3"
  },
  "language_info": {
   "codemirror_mode": {
    "name": "ipython",
    "version": 3
   },
   "file_extension": ".py",
   "mimetype": "text/x-python",
   "name": "python",
   "nbconvert_exporter": "python",
   "pygments_lexer": "ipython3",
   "version": "3.11.5"
  }
 },
 "nbformat": 4,
 "nbformat_minor": 5
}
